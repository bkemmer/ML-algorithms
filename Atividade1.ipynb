{
 "cells": [
  {
   "cell_type": "markdown",
   "metadata": {},
   "source": [
    "# Atividade 1 - SIN5016 Aprendizado de máquina\n",
    "## Dataset Iris\n",
    "\n",
    "Ministrada pelo prof. Clodoaldo A. M. Lima\n",
    "\n",
    "Autor do notebook: Bruno Kemmer"
   ]
  },
  {
   "cell_type": "code",
   "execution_count": 1,
   "metadata": {},
   "outputs": [],
   "source": [
    "import numpy as np\n",
    "import matplotlib.pyplot as plt\n",
    "import seaborn as sns\n",
    "\n",
    "import regressao_linear\n",
    "import utils"
   ]
  },
  {
   "cell_type": "markdown",
   "metadata": {},
   "source": [
    "# Regressão Linear"
   ]
  },
  {
   "cell_type": "markdown",
   "metadata": {},
   "source": [
    "## Dataset:  Iris Data Set \n",
    "\n",
    "[fonte](https://archive.ics.uci.edu/ml/datasets/Iris?spm=a2c4e.11153940.blogcont603256.5.333b1d6f05ZggC)\n",
    "\n",
    "Atributos:\n",
    "1. sepal length in cm\n",
    "2. sepal width in cm\n",
    "3. petal length in cm\n",
    "4. petal width in cm\n",
    "5. class:\n",
    " - Iris Setosa\n",
    " - Iris Versicolour\n",
    " - Iris Virginica"
   ]
  },
  {
   "cell_type": "markdown",
   "metadata": {},
   "source": [
    "## Sem normalização"
   ]
  },
  {
   "cell_type": "code",
   "execution_count": 2,
   "metadata": {},
   "outputs": [
    {
     "name": "stdout",
     "output_type": "stream",
     "text": [
      "Dimensão de X:  (150, 5)\n",
      "Dimensão de :  (150, 3)\n",
      "Dimensão do treino e teste: (105, 5) (45, 5)\n",
      "Dimensão de w:  (5, 3)\n",
      "Acurácia: 0.84\n"
     ]
    }
   ],
   "source": [
    "input_path='./data/iris.data'\n",
    "d={\"Iris-setosa\":[1,0,0], \"Iris-versicolor\":[0,1,0],\"Iris-virginica\":[0,0,1]}\n",
    "\n",
    "X, y = regressao_linear.obter_dataset(input_path, d)\n",
    "# print(X[0:5, :])\n",
    "# print(y[0:5])\n",
    "print('Dimensão de X: ', np.shape(X))\n",
    "print('Dimensão de : ', np.shape(y))\n",
    "\n",
    "X_train, y_train, X_test, y_test = utils.divide_dataset(X, y)\n",
    "print('Dimensão do treino e teste:', np.shape(X_train), np.shape(X_test))\n",
    "\n",
    "w = regressao_linear.regressao_linear(X_train, y_train)\n",
    "print('Dimensão de w: ', np.shape(w))\n",
    "\n",
    "y_hat = regressao_linear.preditor_linear(w, X_test)\n",
    "regressao_linear.acuracia(y_hat, y_test)"
   ]
  },
  {
   "cell_type": "markdown",
   "metadata": {},
   "source": [
    "# Análise exploratória"
   ]
  },
  {
   "cell_type": "code",
   "execution_count": 3,
   "metadata": {},
   "outputs": [
    {
     "data": {
      "image/png": "[encoded data removed]",
      "text/plain": [
       "<Figure size 1440x720 with 4 Axes>"
      ]
     },
     "metadata": {
      "needs_background": "light"
     },
     "output_type": "display_data"
    }
   ],
   "source": [
    "fig, axs = plt.subplots(2, 2, figsize=(20,10))\n",
    "axs = np.reshape(axs, -1)\n",
    "for i in range(1,5):\n",
    "    axs[i-1].hist(X[:,i])"
   ]
  },
  {
   "cell_type": "code",
   "execution_count": 4,
   "metadata": {},
   "outputs": [
    {
     "name": "stdout",
     "output_type": "stream",
     "text": [
      "Acurácia: 0.84\n"
     ]
    }
   ],
   "source": [
    "# Normalizando com z_score\n",
    "X = utils.z_score(X, cols=[1, 2, 3, 4])\n",
    "X_train, y_train, X_test, y_test = utils.divide_dataset(X, y)\n",
    "w = regressao_linear.regressao_linear(X_train, y_train)\n",
    "y_hat = regressao_linear.preditor_linear(w, X_test)\n",
    "regressao_linear.acuracia(y_hat, y_test)"
   ]
  },
  {
   "cell_type": "markdown",
   "metadata": {},
   "source": [
    "## Dataset: Pima Indians Diabetes Database\n",
    "[fonte](https://www.kaggle.com/uciml/pima-indians-diabetes-database)\n",
    "### Descrição:\n",
    "O dataset consiste em diferentes variáveis preditoras médicas (independentes) e uma variável classe (dependente).\n",
    "As variávies independentes incluem: número de gravidezes que o paciente teve, seu BMI, nível de insulina, idade entre outros.\n",
    "\n",
    "### Atributos:\n",
    "\n",
    "1. Pregnancies - Gravidezes - número de vezes em que a pessoa já engravidou\n",
    "2. Glucose - Nível de glicose - concentração de de glicose no plasma em 2 horas em um teste de tolerância oral.\n",
    "3. BloodPressure - Diastolic blood pressure (mm Hg) - Pressão sanguínea diastólica\n",
    "4. SkinThickness - Triceps skin fold thickness (mm) - Grossura da pele via o quanto é possível dobrar do triceps\n",
    "7. Insulin - Nível de insulina 2-Hour serum insulin (mu U/ml) - \n",
    "8. BMI - Body mass index - Índice de massa corporal\n",
    "9. Age - Idade\n",
    "10. Outcome - Variável classe (0 ou 1) - 268 de 768 exemplos são da classe 1, os outros são 0.\n"
   ]
  },
  {
   "cell_type": "markdown",
   "metadata": {},
   "source": [
    "## Dataset: Hepatitis Data Set\n",
    "\n",
    "[fonte](https://archive.ics.uci.edu/ml/datasets/Hepatitis)\n",
    "\n",
    "- Número de instâncias: 155\n",
    "- Tem valores faltantes: Sim\n",
    "- Número de atributos: 19\n",
    "\n",
    "## Atributos\n",
    "\n",
    "1. Class: DIE, LIVE\n",
    "2. AGE: 10, 20, 30, 40, 50, 60, 70, 80\n",
    "3. SEX: male, female\n",
    "4. STEROID: no, yes\n",
    "5. ANTIVIRALS: no, yes\n",
    "6. FATIGUE: no, yes\n",
    "7. MALAISE: no, yes\n",
    "8. ANOREXIA: no, yes\n",
    "9. LIVER BIG: no, yes\n",
    "10. LIVER FIRM: no, yes\n",
    "11. SPLEEN PALPABLE: no, yes\n",
    "12. SPIDERS: no, yes\n",
    "13. ASCITES: no, yes\n",
    "14. VARICES: no, yes\n",
    "15. BILIRUBIN: 0.39, 0.80, 1.20, 2.00, 3.00, 4.00\n",
    "16. ALK PHOSPHATE: 33, 80, 120, 160, 200, 250\n",
    "17. SGOT: 13, 100, 200, 300, 400, 500,\n",
    "18. ALBUMIN: 2.1, 3.0, 3.8, 4.5, 5.0, 6.0\n",
    "19. PROTIME: 10, 20, 30, 40, 50, 60, 70, 80, 90\n",
    "20. HISTOLOGY: no, yes"
   ]
  },
  {
   "cell_type": "code",
   "execution_count": null,
   "metadata": {},
   "outputs": [],
   "source": []
  }
 ],
 "metadata": {
  "kernelspec": {
   "display_name": "Python 3",
   "language": "python",
   "name": "python3"
  },
  "language_info": {
   "codemirror_mode": {
    "name": "ipython",
    "version": 3
   },
   "file_extension": ".py",
   "mimetype": "text/x-python",
   "name": "python",
   "nbconvert_exporter": "python",
   "pygments_lexer": "ipython3",
   "version": "3.8.2"
  }
 },
 "nbformat": 4,
 "nbformat_minor": 4
}
